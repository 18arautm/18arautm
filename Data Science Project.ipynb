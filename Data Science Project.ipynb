{
 "cells": [
  {
   "cell_type": "code",
   "execution_count": 1,
   "id": "eb360ff6",
   "metadata": {},
   "outputs": [],
   "source": [
    "import matplotlib.pyplot as plt\n",
    "import pandas as pd\n",
    "import numpy as np\n",
    "%matplotlib inline\n",
    "import seaborn as sns\n",
    "\n",
    "crime_table = pd.read_csv(\"data sets\\wibr.csv\")"
   ]
  },
  {
   "cell_type": "code",
   "execution_count": 5,
   "id": "4173b307",
   "metadata": {},
   "outputs": [
    {
     "data": {
      "text/plain": [
       "IncidentNum             0\n",
       "ReportedDateTime        0\n",
       "ReportedYear            0\n",
       "ReportedMonth           0\n",
       "Location              555\n",
       "WeaponUsed          22520\n",
       "ALD                   429\n",
       "NSP                 14121\n",
       "POLICE                354\n",
       "TRACT                 421\n",
       "WARD                  385\n",
       "ZIP                   227\n",
       "RoughX                227\n",
       "RoughY                227\n",
       "Arson                   0\n",
       "AssaultOffense          0\n",
       "Burglary                0\n",
       "CriminalDamage          0\n",
       "Homicide                0\n",
       "LockedVehicle           0\n",
       "Robbery                 0\n",
       "SexOffense              0\n",
       "Theft                   0\n",
       "VehicleTheft            0\n",
       "dtype: int64"
      ]
     },
     "execution_count": 5,
     "metadata": {},
     "output_type": "execute_result"
    }
   ],
   "source": [
    "crime_table.head()\n",
    "crime_table.isnull().sum()"
   ]
  }
 ],
 "metadata": {
  "kernelspec": {
   "display_name": "Python 3",
   "language": "python",
   "name": "python3"
  },
  "language_info": {
   "codemirror_mode": {
    "name": "ipython",
    "version": 3
   },
   "file_extension": ".py",
   "mimetype": "text/x-python",
   "name": "python",
   "nbconvert_exporter": "python",
   "pygments_lexer": "ipython3",
   "version": "3.8.8"
  }
 },
 "nbformat": 4,
 "nbformat_minor": 5
}
